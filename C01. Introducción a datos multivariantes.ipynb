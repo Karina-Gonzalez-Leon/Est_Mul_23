{
 "cells": [
  {
   "cell_type": "markdown",
   "metadata": {},
   "source": [
    "<img src=\"logo.png\">"
   ]
  },
  {
   "cell_type": "markdown",
   "metadata": {},
   "source": [
    "# Introducción a datos multivariantes\n",
    "\n",
    "Los datos multivariantes surgen cuando los investigadores registran los valores de varias variables aleatorias en una cantidad de sujetos u objetos o tal vez en una variedad de otras cosas (usaremos el término general *unidades*) en las que están interesados, lo que lleva a un vector-observación valorada o multidimensional para cada uno.\n",
    "\n",
    "La mayoría de los conjuntos de datos multivariantes se pueden representar de la misma manera, es decir, en un formato rectangular conocido como hojas de cálculo, en el que los elementos de cada fila corresponden a los valores de las variables de una unidad particular en el conjunto de datos y los elementos de las columnas corresponden a los valores tomados por una determinada variable.\n",
    "\n",
    "Aunque en algunos casos donde los datos multivariados han sido recolectados puede tener sentido aislar cada variable y estudiarla por separado, en general no es así. Debido a que todo el conjunto de variables se mide en cada unidad, las variables estarán relacionadas en mayor o menor grado. En consecuencia, si cada variable se analiza de forma aislada, es posible que no se revele la estructura completa de los datos.\n",
    "\n",
    "El análisis estadístico multivariante es el análisis estadístico simultáneo de una colección de variables, que mejora los análisis univariados separados de cada variable mediante el uso de información sobre las relaciones entre las variables.\n",
    "\n",
    "Es muy probable que el análisis de cada variable por separado pase por alto las características clave y los patrones de los datos multivariados."
   ]
  },
  {
   "cell_type": "markdown",
   "metadata": {},
   "source": [
    "## Análisis Exploratorio versus inferencial\n",
    "\n",
    "Las unidades en un conjunto de datos multivariados a veces se muestrean de una población de interés, pero a menudo no. En consecuencia, existen métodos de análisis multivariante que son esencialmente exploratorios y otros que pueden utilizarse para la inferencia estadística.\n"
   ]
  },
  {
   "cell_type": "markdown",
   "metadata": {},
   "source": [
    "## Tipos de variables\n",
    "\n",
    "Observemos la siguiente tabla\n",
    "\n",
    "<img src=\"im01.png\">\n",
    "\n",
    "Nótese que existen valores faltantes en las unidades 2, 7 y 8\n",
    "\n",
    "Existen **cuatro tipos de datos numéricos (medidas)**:\n",
    "\n",
    "**Nominal:** Variables categóricas desordenadas.\n",
    "\n",
    "Los ejemplos incluyen la asignación del tratamiento, el sexo del encuestado, el color del cabello, la presencia o ausencia de depresión, etc.\n",
    "\n",
    "**Ordinal:** Donde hay un ordenamiento pero no implica la misma distancia entre los diferentes puntos de la escala.\n",
    "\n",
    "Los ejemplos incluyen la clase social, la autopercepción de la salud (cada uno codificado de I a V, por ejemplo) y el nivel educativo (sin educación, educación primaria, secundaria o terciaria).\n",
    "\n",
    "**Intervalo:** Donde hay diferencias iguales entre puntos sucesivos en la escala pero la posición del cero es arbitraria.\n",
    "\n",
    "El ejemplo clásico es la medición de la temperatura utilizando las escalas Celsius o Fahrenheit.\n",
    "\n",
    "**Razón:** El nivel más alto de medición, donde uno puede investigar las magnitudes relativas de las puntuaciones así como las diferencias entre ellas. La posición de cero es fija. \n",
    "\n",
    "El ejemplo clásico es la medida absoluta de la temperatura (en Kelvin, por ejemplo), pero otros comunes incluyen la edad, el peso y la longitud."
   ]
  },
  {
   "cell_type": "markdown",
   "metadata": {},
   "source": [
    "## Valores perdidos\n",
    "\n",
    "En general pueden deberse a diversos factores (por ejepmlo, personas abandonan un estudio).\n",
    "\n",
    "Puede tomar la ruta de análisis de 'caso completo': deseche los casos incompletos, pero a un costo.\n",
    "\n",
    "Puede examinar datos completos e incompletos por separado para asegurarse de que las respuestas parezcan coherentes.\n",
    "\n",
    "Puede imputar valores faltantes: imputación múltiple, hay numerosos enfoques\n",
    "\n",
    "Puede ignorar los valores perdidos"
   ]
  }
 ],
 "metadata": {
  "kernelspec": {
   "display_name": "Python 3",
   "language": "python",
   "name": "python3"
  },
  "language_info": {
   "codemirror_mode": {
    "name": "ipython",
    "version": 3
   },
   "file_extension": ".py",
   "mimetype": "text/x-python",
   "name": "python",
   "nbconvert_exporter": "python",
   "pygments_lexer": "ipython3",
   "version": "3.7.7"
  }
 },
 "nbformat": 4,
 "nbformat_minor": 4
}
